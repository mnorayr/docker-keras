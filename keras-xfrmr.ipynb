{
 "cells": [
  {
   "cell_type": "code",
   "execution_count": 2,
   "metadata": {},
   "outputs": [],
   "source": [
    "import h2o\n",
    "from h2o.estimators.gbm import H2OGradientBoostingEstimator\n",
    "from h2o.estimators.deeplearning import H2ODeepLearningEstimator\n",
    "from h2o.estimators.xgboost import H2OXGBoostEstimator\n",
    "from h2o.estimators.glm import H2OGeneralizedLinearEstimator\n",
    "\n",
    "import pandas as pd\n",
    "from sqlalchemy import create_engine\n",
    "import time\n",
    "from h2o.automl import H2OAutoML\n",
    "from sklearn.metrics import roc_curve, auc\n",
    "from sklearn.metrics import confusion_matrix\n",
    "import matplotlib.pyplot as plt\n",
    "import matplotlib\n",
    "import numpy as np\n",
    "\n",
    "from sklearn.metrics import roc_curve, auc\n",
    "from sklearn.metrics import confusion_matrix\n",
    "from pandas_ml import ConfusionMatrix\n",
    "import xgboost as xgb\n",
    "\n",
    "from random import shuffle\n",
    "\n",
    "### doing this with keras\n",
    "import tensorflow as tf\n",
    "import keras\n",
    "import matplotlib.pyplot as plt\n",
    "from sklearn.preprocessing import MinMaxScaler\n",
    "\n",
    "def draw_roc_keras(model,xt, yt):\n",
    "    predictions = model.predict(xt)\n",
    "    # for in in range(2):\n",
    "    fpr, tpr, thr = roc_curve(yt, predictions[:,1])\n",
    "    roc_auc = auc(fpr, tpr)\n",
    "    plt.figure()\n",
    "    lw = 2\n",
    "    plt.plot(fpr, tpr, color='darkorange',\n",
    "             lw=lw, label='ROC curve (area = %0.2f)' % roc_auc)\n",
    "    plt.plot([0, 1], [0, 1], color='navy', lw=lw, linestyle='--')\n",
    "    plt.xlim([0.0, 1.0])\n",
    "    plt.ylim([0.0, 1.05])\n",
    "    plt.xlabel('False Positive Rate')\n",
    "    plt.ylabel('True Positive Rate')\n",
    "    plt.title('Receiver operating characteristic {};'.format('keras'))\n",
    "    plt.legend(loc=\"lower right\")\n",
    "    plt.ion()\n",
    "\n",
    "    # plt.interactive(False)\n",
    "    plt.show()\n",
    "    return predictions\n",
    "\n",
    "tf.__version__\n",
    "# tn= tf.keras.utils.normalize(train_only_pd)\n",
    "\n",
    "\n",
    "def conv_tf(l):\n",
    "    l_b=[]\n",
    "    for i in l:\n",
    "        if i[0] == True:\n",
    "            l_b.append('YES')\n",
    "        else:\n",
    "            l_b.append('NO')\n",
    "    return np.array(l_b)\n",
    "\n",
    "\n",
    "\n",
    "def conv_b(l):\n",
    "    l_b=[]\n",
    "    for i in l:\n",
    "        if i=='YES':\n",
    "            l_b.append(1)\n",
    "        else:\n",
    "            l_b.append(0)\n",
    "    return np.array(l_b)\n",
    "\n",
    "def conv_s(l):\n",
    "    l_s=[]\n",
    "    for i in l:\n",
    "        if i==1:\n",
    "            l_s.append('YES')\n",
    "        else:\n",
    "            l_s.append('NO')\n",
    "    return np.array(l_s)\n",
    "\n",
    "\n",
    "def conf_m(t,real_l,pred_l):\n",
    "    pred_thr=[]\n",
    "    for i in pred_l:\n",
    "        if i>=t:\n",
    "            # print i\n",
    "            pred_thr.append('YES')\n",
    "        else:\n",
    "            pred_thr.append('NO')\n",
    "    return confusion_matrix(real_l, pred_thr)\n",
    "\n",
    "\n",
    "\n",
    "# class Model(object):\n",
    "#     def __init__(self, model, name):\n",
    "#         self.model = model\n",
    "#         self.name = name\n",
    "#\n",
    "#     def train(self, x, y, training_frame, validation_frame):\n",
    "#         self.model.train(x=x, y=y, training_frame=training_frame, validation_frame=validation_frame)\n",
    "\n",
    "\n",
    "def readable_time(seconds):\n",
    "    \"\"\"Returns h:mm:ss formatted time from time in seconds.\n",
    "\n",
    "    Args:\n",
    "        seconds (float): Number of seconds to convert to readable time.\n",
    "\n",
    "    \"\"\"\n",
    "    m, s = divmod(seconds, 60)\n",
    "    h, m = divmod(m, 60)\n",
    "\n",
    "    return \"%d:%02d:%02d\" % (h, m, s)\n",
    "\n",
    "\n",
    "def confusion_matrix_max(frame, pred_col, real_col, threshold):\n",
    "    \"\"\"Creates a confusion matrix based on the truth value of the predictions and a threshold.\n",
    "\n",
    "    Args:\n",
    "        frame (H2OFrame, DataFrame): Frame with headers.\n",
    "        pred_col (str): Name of column with predictions.\n",
    "        real_col (str): Name of column with actuals.\n",
    "        threshold (float): Threshold determining vote of prediction column.\n",
    "\n",
    "    Returns:\n",
    "        ConfusionMatrix\n",
    "    \"\"\"\n",
    "    predicted = frame[pred_col].apply(lambda row: 1 if row >= threshold else 0)\n",
    "    real = frame[real_col]\n",
    "    matrix = ConfusionMatrix(list(real), list(predicted))\n",
    "\n",
    "    return matrix, matrix.precision, threshold\n",
    "\n",
    "\n",
    "def draw_roc(frame,model,if_print=True):\n",
    "    \"\"\"Plots and ROC curve of a given model and a test frame.\n",
    "\n",
    "    Args:\n",
    "        frame (H2OFrame, DataFrame): The test frame.\n",
    "        model: and H2O trained model.\n",
    "        if_print (Boolean): A Boolean if needed to print confusion matrices at different thresholds.\n",
    "\n",
    "    Returns:\n",
    "        Predictionson the test frame \n",
    "    \"\"\"\n",
    "    # ##############################################################\n",
    "    # # Run model prediction and assess\n",
    "    prediction_dnn = model.predict(frame)\n",
    "    real = conv_tf(frame['if_failed'].as_data_frame().values)\n",
    "    pred_model = prediction_dnn.as_data_frame()['predict']\n",
    "\n",
    "    # p_yes_dnn=model.predict(frame).as_data_frame()['True']\n",
    "    p_yes_dnn=prediction_dnn.as_data_frame()['True']\n",
    "\n",
    "    fpr, tpr, thr = roc_curve(conv_b(real), p_yes_dnn)\n",
    "    roc_auc = auc(fpr, tpr)\n",
    "\n",
    "    if if_print == True:\n",
    "        dtp_dnn=pd.DataFrame()\n",
    "        for t in thr:\n",
    "            c_dnn_t=conf_m(t,real,p_yes_dnn)\n",
    "            tn, fp, fn, tp=c_dnn_t.ravel()\n",
    "            if (tp+fp)>0:\n",
    "                print(c_dnn_t, '\\n Precsision = ', round(float(tp)/(tp+fp),3) , '\\n Threshold = ', round(t,3))\n",
    "                dtp_dnn = dtp_dnn.append(\n",
    "                    {'Threshold': t, 'TN': tn, 'FP': fp, 'FN': fn, 'TP': tp, 'Precision': round(float(tp) / (tp + fp), 3)},\n",
    "                    ignore_index=True)\n",
    "\n",
    "    plt.figure()\n",
    "    lw = 2\n",
    "    plt.plot(fpr, tpr, color='darkorange',\n",
    "             lw=lw, label='ROC curve (area = %0.2f)' % roc_auc)\n",
    "    plt.plot([0, 1], [0, 1], color='navy', lw=lw, linestyle='--')\n",
    "    plt.xlim([0.0, 1.0])\n",
    "    plt.ylim([0.0, 1.05])\n",
    "    plt.xlabel('False Positive Rate')\n",
    "    plt.ylabel('True Positive Rate')\n",
    "    plt.title('Receiver operating characteristic {};'.format(model.model_id))\n",
    "    plt.legend(loc=\"lower right\")\n",
    "    plt.ion()\n",
    "\n",
    "    # plt.interactive(False)\n",
    "    plt.show()\n",
    "    return pred_model"
   ]
  },
  {
   "cell_type": "code",
   "execution_count": 33,
   "metadata": {},
   "outputs": [],
   "source": [
    "\n",
    "##Load Data\n",
    "train_data=pd.read_csv('../Data/train.csv')\n",
    "train_data.drop(['xfrmr'], axis=1, inplace=True)\n",
    "\n",
    "## Import test data\n",
    "test_data=pd.read_csv('../Data/test.csv')\n",
    "test_df=test_data[['xfrmr','if_failed']]\n",
    "test_data.drop(['xfrmr'], axis=1, inplace=True)\n",
    "\n",
    "\n",
    "\n",
    "train_data=train_data.sample(frac=1)\n",
    "### dropping voltage\n",
    "# train_data.drop(train_data.columns[2:52],axis=1, inplace=True)\n",
    "\n",
    "\n",
    "\n",
    "# Define not failed to failed ratio\n",
    "not_failed_to_failed_ratio = 1\n",
    "\n",
    "\n",
    "# Create train and validation sets\n",
    "failed_table = train_data[train_data['if_failed'] == True]\n",
    "not_failed_table = train_data[train_data['if_failed'] == False][:not_failed_to_failed_ratio * len(failed_table)]\n",
    "\n",
    "\n",
    "# # train_pd = train_data\n",
    "# # train_pd = train_pd.sample(frac=1)\n",
    "# train_pd = failed_table[:int(0.8 * len(failed_table))].append(not_failed_table[:int(0.8 * len(not_failed_table))])\n",
    "# train_pd =train_pd.sample(frac=1)\n",
    "\n",
    "\n",
    "# # val_pd = failed_table[int(0.6 * len(failed_table)):int(0.8 * len(failed_table))].append(not_failed_table[int(0.6 * len(not_failed_table)):int(0.8 * len(not_failed_table))])\n",
    "# val_pd= failed_table[int(0.8 * len(failed_table)):].append(not_failed_table[int(0.8 * len(not_failed_table)):])\n",
    "# val_pd=val_pd.sample(frac=1)\n",
    "\n",
    "\n",
    "# test_pd= failed_table[int(0.6 * len(failed_table)):].append(not_failed_table[int(0.6 * len(not_failed_table)):])\n",
    "train_only_pd = failed_table.append(not_failed_table)\n",
    "train_only_pd=train_only_pd.sample(frac=1)\n",
    "\n",
    "\n",
    "predictors = train_only_pd.columns[1:-1]\n",
    "response = 'if_failed'\n",
    "\n",
    "\n",
    "scaler = MinMaxScaler(feature_range=(0, 1))\n",
    "scaled = scaler.fit_transform(train_only_pd[predictors])\n",
    "\n",
    "x_train=train_only_pd[predictors]\n",
    "y_train=train_only_pd[response]\n",
    "\n",
    "x_test=test_data[predictors]\n",
    "y_test=test_data[response]\n",
    "\n",
    "\n",
    "x_train= scaler.fit_transform(x_train)\n",
    "x_test = scaler.fit_transform(x_test)\n"
   ]
  },
  {
   "cell_type": "code",
   "execution_count": 34,
   "metadata": {},
   "outputs": [
    {
     "data": {
      "text/plain": [
       "(590, 15)"
      ]
     },
     "execution_count": 34,
     "metadata": {},
     "output_type": "execute_result"
    }
   ],
   "source": [
    "# print(x_train[0], \"\\n\", x_test[0], \"\\n\", y_train[0], \"\\n\",y_test[0])\n",
    "# print(x_train[0].shape)\n",
    "x_train.shape"
   ]
  },
  {
   "cell_type": "code",
   "execution_count": 35,
   "metadata": {},
   "outputs": [
    {
     "name": "stdout",
     "output_type": "stream",
     "text": [
      "Epoch 1/5\n",
      " - 1s - loss: 0.7015 - acc: 0.4864\n",
      "Epoch 2/5\n",
      " - 0s - loss: 0.6966 - acc: 0.4949\n",
      "Epoch 3/5\n",
      " - 0s - loss: 0.6922 - acc: 0.5576\n",
      "Epoch 4/5\n",
      " - 0s - loss: 0.6890 - acc: 0.6068\n",
      "Epoch 5/5\n",
      " - 0s - loss: 0.6864 - acc: 0.6153\n"
     ]
    },
    {
     "data": {
      "image/png": "[encoded data removed]",
      "text/plain": [
       "<Figure size 432x288 with 1 Axes>"
      ]
     },
     "metadata": {
      "needs_background": "light"
     },
     "output_type": "display_data"
    }
   ],
   "source": [
    "model= tf.keras.models.Sequential()\n",
    "model.add(tf.keras.layers.Flatten(input_shape=(15, )))\n",
    "model.add(tf.keras.layers.Dense(200, activation=tf.nn.relu))\n",
    "model.add(tf.keras.layers.Dense(100, activation=tf.nn.relu))\n",
    "model.add(tf.keras.layers.Dense(50, activation=tf.nn.relu))\n",
    "model.add(tf.keras.layers.Dense(2, activation=tf.nn.softmax))\n",
    "\n",
    "model.compile(optimizer= 'adam',\n",
    "              loss= 'sparse_categorical_crossentropy',\n",
    "              metrics = ['accuracy'])\n",
    "model.fit(x_train, y_train, verbose =2, epochs = 5,batch_size=800)\n",
    "pred=draw_roc_keras(model,[x_test], y_test)"
   ]
  },
  {
   "cell_type": "code",
   "execution_count": null,
   "metadata": {},
   "outputs": [],
   "source": []
  },
  {
   "cell_type": "code",
   "execution_count": 36,
   "metadata": {},
   "outputs": [
    {
     "name": "stdout",
     "output_type": "stream",
     "text": [
      "148796/148796 [==============================] - ETA: 21:5 - ETA: 36s  - ETA: 19 - ETA: 14 - ETA: 11 - ETA: 10 - ETA: 9 - ETA:  - ETA:  - ETA:  - ETA:  - ETA:  - ETA:  - ETA:  - ETA:  - ETA:  - ETA:  - ETA:  - ETA:  - ETA:  - ETA:  - ETA:  - ETA:  - ETA:  - ETA:  - ETA:  - ETA:  - ETA:  - ETA:  - ETA:  - ETA:  - ETA:  - ETA:  - ETA:  - ETA:  - ETA:  - ETA:  - ETA:  - ETA:  - ETA:  - ETA:  - ETA:  - ETA:  - ETA:  - ETA:  - ETA:  - ETA:  - ETA:  - ETA:  - ETA:  - ETA:  - ETA:  - ETA:  - ETA:  - ETA:  - ETA:  - ETA:  - ETA:  - ETA:  - ETA:  - ETA:  - ETA:  - ETA:  - ETA:  - ETA:  - ETA:  - ETA:  - ETA:  - ETA:  - ETA:  - ETA:  - ETA:  - ETA:  - ETA:  - ETA:  - ETA:  - ETA:  - ETA:  - ETA:  - ETA:  - ETA:  - ETA:  - ETA:  - ETA:  - ETA:  - ETA:  - ETA:  - ETA:  - ETA:  - ETA:  - ETA:  - ETA:  - ETA:  - ETA:  - ETA:  - ETA:  - ETA:  - ETA:  - ETA:  - ETA:  - ETA:  - ETA:  - ETA:  - ETA:  - ETA:  - ETA:  - ETA:  - ETA:  - ETA:  - ETA:  - 6s 39us/step\n",
      "0.6769065564270125 0.9156899379031588\n"
     ]
    }
   ],
   "source": [
    "val_loss, val_accuracy = model.evaluate(x_test, y_test)\n",
    "print(val_loss, val_accuracy)"
   ]
  },
  {
   "cell_type": "code",
   "execution_count": null,
   "metadata": {},
   "outputs": [],
   "source": [
    "predc=model.predict_classes([x_test])\n",
    "predc"
   ]
  },
  {
   "cell_type": "markdown",
   "metadata": {},
   "source": [
    "## Trying LSTM "
   ]
  },
  {
   "cell_type": "code",
   "execution_count": null,
   "metadata": {},
   "outputs": [],
   "source": []
  },
  {
   "cell_type": "code",
   "execution_count": 35,
   "metadata": {},
   "outputs": [
    {
     "data": {
      "text/plain": [
       "(197772, 15)"
      ]
     },
     "execution_count": 35,
     "metadata": {},
     "output_type": "execute_result"
    }
   ],
   "source": [
    "x_train.shape"
   ]
  },
  {
   "cell_type": "code",
   "execution_count": null,
   "metadata": {},
   "outputs": [],
   "source": []
  },
  {
   "cell_type": "code",
   "execution_count": null,
   "metadata": {},
   "outputs": [],
   "source": []
  }
 ],
 "metadata": {
  "kernelspec": {
   "display_name": "Python 3",
   "language": "python",
   "name": "python3"
  },
  "language_info": {
   "codemirror_mode": {
    "name": "ipython",
    "version": 3
   },
   "file_extension": ".py",
   "mimetype": "text/x-python",
   "name": "python",
   "nbconvert_exporter": "python",
   "pygments_lexer": "ipython3",
   "version": "3.6.6"
  }
 },
 "nbformat": 4,
 "nbformat_minor": 2
}
